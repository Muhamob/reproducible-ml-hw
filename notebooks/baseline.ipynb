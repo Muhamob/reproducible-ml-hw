{
 "cells": [
  {
   "cell_type": "code",
   "execution_count": 1,
   "metadata": {
    "ExecuteTime": {
     "end_time": "2020-11-11T16:08:32.364602Z",
     "start_time": "2020-11-11T16:08:31.713372Z"
    }
   },
   "outputs": [],
   "source": [
    "from pathlib import Path\n",
    "from datetime import datetime\n",
    "\n",
    "import pandas as pd\n",
    "import numpy as np\n",
    "from sklearn.impute import KNNImputer\n",
    "from sklearn.model_selection import train_test_split, cross_val_score, StratifiedKFold\n",
    "from sklearn.ensemble import RandomForestClassifier\n",
    "from sklearn.metrics import f1_score, classification_report"
   ]
  },
  {
   "cell_type": "code",
   "execution_count": 2,
   "metadata": {
    "ExecuteTime": {
     "end_time": "2020-11-11T16:09:02.622485Z",
     "start_time": "2020-11-11T16:09:02.458471Z"
    }
   },
   "outputs": [
    {
     "name": "stdout",
     "output_type": "stream",
     "text": [
      "(2838, 370) (939, 369)\n"
     ]
    },
    {
     "data": {
      "text/html": [
       "<div>\n",
       "<style scoped>\n",
       "    .dataframe tbody tr th:only-of-type {\n",
       "        vertical-align: middle;\n",
       "    }\n",
       "\n",
       "    .dataframe tbody tr th {\n",
       "        vertical-align: top;\n",
       "    }\n",
       "\n",
       "    .dataframe thead th {\n",
       "        text-align: right;\n",
       "    }\n",
       "</style>\n",
       "<table border=\"1\" class=\"dataframe\">\n",
       "  <thead>\n",
       "    <tr style=\"text-align: right;\">\n",
       "      <th></th>\n",
       "      <th>Year</th>\n",
       "      <th>Field ID</th>\n",
       "      <th>Field Area</th>\n",
       "      <th>Day 1</th>\n",
       "      <th>Day 2</th>\n",
       "      <th>Day 3</th>\n",
       "      <th>Day 4</th>\n",
       "      <th>Day 5</th>\n",
       "      <th>Day 6</th>\n",
       "      <th>Day 7</th>\n",
       "      <th>...</th>\n",
       "      <th>Day 358</th>\n",
       "      <th>Day 359</th>\n",
       "      <th>Day 360</th>\n",
       "      <th>Day 361</th>\n",
       "      <th>Day 362</th>\n",
       "      <th>Day 363</th>\n",
       "      <th>Day 364</th>\n",
       "      <th>Day 365</th>\n",
       "      <th>Day 366</th>\n",
       "      <th>Culture</th>\n",
       "    </tr>\n",
       "  </thead>\n",
       "  <tbody>\n",
       "    <tr>\n",
       "      <th>0</th>\n",
       "      <td>2018</td>\n",
       "      <td>517</td>\n",
       "      <td>48.64</td>\n",
       "      <td>0.5369</td>\n",
       "      <td>0.5371</td>\n",
       "      <td>0.5375</td>\n",
       "      <td>0.5379</td>\n",
       "      <td>0.5384</td>\n",
       "      <td>0.5390</td>\n",
       "      <td>0.5397</td>\n",
       "      <td>...</td>\n",
       "      <td>0.4362</td>\n",
       "      <td>0.4322</td>\n",
       "      <td>0.4283</td>\n",
       "      <td>0.4243</td>\n",
       "      <td>0.4203</td>\n",
       "      <td>0.4163</td>\n",
       "      <td>0.4123</td>\n",
       "      <td>0.4084</td>\n",
       "      <td>NaN</td>\n",
       "      <td>4</td>\n",
       "    </tr>\n",
       "    <tr>\n",
       "      <th>1</th>\n",
       "      <td>2019</td>\n",
       "      <td>1395</td>\n",
       "      <td>80.41</td>\n",
       "      <td>0.1159</td>\n",
       "      <td>0.1096</td>\n",
       "      <td>0.1034</td>\n",
       "      <td>0.0971</td>\n",
       "      <td>0.0909</td>\n",
       "      <td>0.0846</td>\n",
       "      <td>0.0783</td>\n",
       "      <td>...</td>\n",
       "      <td>NaN</td>\n",
       "      <td>NaN</td>\n",
       "      <td>NaN</td>\n",
       "      <td>NaN</td>\n",
       "      <td>NaN</td>\n",
       "      <td>NaN</td>\n",
       "      <td>NaN</td>\n",
       "      <td>NaN</td>\n",
       "      <td>NaN</td>\n",
       "      <td>17</td>\n",
       "    </tr>\n",
       "  </tbody>\n",
       "</table>\n",
       "<p>2 rows × 370 columns</p>\n",
       "</div>"
      ],
      "text/plain": [
       "   Year  Field ID  Field Area   Day 1   Day 2   Day 3   Day 4   Day 5   Day 6  \\\n",
       "0  2018       517       48.64  0.5369  0.5371  0.5375  0.5379  0.5384  0.5390   \n",
       "1  2019      1395       80.41  0.1159  0.1096  0.1034  0.0971  0.0909  0.0846   \n",
       "\n",
       "    Day 7  ...  Day 358  Day 359  Day 360  Day 361  Day 362  Day 363  Day 364  \\\n",
       "0  0.5397  ...   0.4362   0.4322   0.4283   0.4243   0.4203   0.4163   0.4123   \n",
       "1  0.0783  ...      NaN      NaN      NaN      NaN      NaN      NaN      NaN   \n",
       "\n",
       "   Day 365  Day 366  Culture  \n",
       "0   0.4084      NaN        4  \n",
       "1      NaN      NaN       17  \n",
       "\n",
       "[2 rows x 370 columns]"
      ]
     },
     "execution_count": 2,
     "metadata": {},
     "output_type": "execute_result"
    }
   ],
   "source": [
    "data_path = Path(\"../data/raw\")\n",
    "train = pd.read_csv(data_path / 'train.csv')\n",
    "test = pd.read_csv(data_path / 'test.csv')\n",
    "\n",
    "print(train.shape, test.shape)\n",
    "train.head(2)"
   ]
  },
  {
   "cell_type": "code",
   "execution_count": 3,
   "metadata": {
    "ExecuteTime": {
     "end_time": "2020-11-11T16:09:03.854627Z",
     "start_time": "2020-11-11T16:09:03.848747Z"
    }
   },
   "outputs": [
    {
     "name": "stdout",
     "output_type": "stream",
     "text": [
      "(2838, 369) (939, 369) (2838,)\n"
     ]
    }
   ],
   "source": [
    "X_train = train.drop('Culture', axis=1)\n",
    "y_train = train['Culture']\n",
    "X_test = test.copy()\n",
    "\n",
    "print(X_train.shape, X_test.shape, y_train.shape)"
   ]
  },
  {
   "cell_type": "code",
   "execution_count": 4,
   "metadata": {
    "ExecuteTime": {
     "end_time": "2020-11-11T16:09:12.507075Z",
     "start_time": "2020-11-11T16:09:04.712797Z"
    }
   },
   "outputs": [
    {
     "name": "stdout",
     "output_type": "stream",
     "text": [
      "CPU times: user 15.3 s, sys: 974 ms, total: 16.3 s\n",
      "Wall time: 14.2 s\n"
     ]
    }
   ],
   "source": [
    "%%time\n",
    "imputer = KNNImputer(n_neighbors=9, weights=\"distance\")\n",
    "X_train = imputer.fit_transform(X_train)\n",
    "X_test = imputer.transform(X_test)"
   ]
  },
  {
   "cell_type": "code",
   "execution_count": 5,
   "metadata": {
    "ExecuteTime": {
     "end_time": "2020-11-11T16:09:16.196265Z",
     "start_time": "2020-11-11T16:09:12.520266Z"
    }
   },
   "outputs": [
    {
     "name": "stderr",
     "output_type": "stream",
     "text": [
      "/home/isabella/code/study/ml_advanced/venv/lib/python3.7/site-packages/sklearn/model_selection/_split.py:672: UserWarning: The least populated class in y has only 1 members, which is less than n_splits=5.\n",
      "  % (min_groups, self.n_splits)), UserWarning)\n"
     ]
    },
    {
     "name": "stdout",
     "output_type": "stream",
     "text": [
      "Mean f1_weighted: 0.8759723790953131\n"
     ]
    }
   ],
   "source": [
    "model = RandomForestClassifier(random_state=0, n_estimators=100, max_depth=15, max_features = 'sqrt')\n",
    "results = cross_val_score(model, X_train, y_train, cv=StratifiedKFold(5), scoring='f1_weighted')\n",
    "print('Mean f1_weighted:', np.mean(results))"
   ]
  }
 ],
 "metadata": {
  "kernelspec": {
   "display_name": "agrocode-hw",
   "language": "python",
   "name": "agrocode-hw"
  },
  "language_info": {
   "codemirror_mode": {
    "name": "ipython",
    "version": 3
   },
   "file_extension": ".py",
   "mimetype": "text/x-python",
   "name": "python",
   "nbconvert_exporter": "python",
   "pygments_lexer": "ipython3",
   "version": "3.7.6"
  },
  "toc": {
   "base_numbering": 1,
   "nav_menu": {},
   "number_sections": true,
   "sideBar": true,
   "skip_h1_title": false,
   "title_cell": "Table of Contents",
   "title_sidebar": "Contents",
   "toc_cell": false,
   "toc_position": {},
   "toc_section_display": true,
   "toc_window_display": false
  }
 },
 "nbformat": 4,
 "nbformat_minor": 4
}
